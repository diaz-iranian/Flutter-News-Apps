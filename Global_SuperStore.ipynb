{
  "nbformat": 4,
  "nbformat_minor": 0,
  "metadata": {
    "colab": {
      "name": "Global SuperStore",
      "provenance": [],
      "authorship_tag": "ABX9TyP92cVZxkTl6AgC16oLPZRP",
      "include_colab_link": true
    },
    "kernelspec": {
      "name": "python3",
      "display_name": "Python 3"
    }
  },
  "cells": [
    {
      "cell_type": "markdown",
      "metadata": {
        "id": "view-in-github",
        "colab_type": "text"
      },
      "source": [
        "<a href=\"https://colab.research.google.com/github/diaz-iranian/Flutter-News-Apps/blob/master/Global_SuperStore.ipynb\" target=\"_parent\"><img src=\"https://colab.research.google.com/assets/colab-badge.svg\" alt=\"Open In Colab\"/></a>"
      ]
    },
    {
      "cell_type": "code",
      "metadata": {
        "id": "awQrIonYDRvL",
        "colab_type": "code",
        "colab": {}
      },
      "source": [
        "import pandas as pd\n",
        "import numpy as np\n",
        "import matplotlib.pyplot as plt\n",
        "import seaborn as sns\n",
        "%matplotlib inline"
      ],
      "execution_count": 0,
      "outputs": []
    },
    {
      "cell_type": "code",
      "metadata": {
        "id": "OEgg6Z6xEcFV",
        "colab_type": "code",
        "colab": {
          "base_uri": "https://localhost:8080/",
          "height": 564
        },
        "outputId": "823621c6-ac7b-411d-90a1-21c469ab914a"
      },
      "source": [
        "df = pd.read_excel(\"Global Superstore.xls\")\n",
        "df.head()"
      ],
      "execution_count": 4,
      "outputs": [
        {
          "output_type": "execute_result",
          "data": {
            "text/html": [
              "<div>\n",
              "<style scoped>\n",
              "    .dataframe tbody tr th:only-of-type {\n",
              "        vertical-align: middle;\n",
              "    }\n",
              "\n",
              "    .dataframe tbody tr th {\n",
              "        vertical-align: top;\n",
              "    }\n",
              "\n",
              "    .dataframe thead th {\n",
              "        text-align: right;\n",
              "    }\n",
              "</style>\n",
              "<table border=\"1\" class=\"dataframe\">\n",
              "  <thead>\n",
              "    <tr style=\"text-align: right;\">\n",
              "      <th></th>\n",
              "      <th>Row ID</th>\n",
              "      <th>Order ID</th>\n",
              "      <th>Order Date</th>\n",
              "      <th>Ship Date</th>\n",
              "      <th>Ship Mode</th>\n",
              "      <th>Customer ID</th>\n",
              "      <th>Customer Name</th>\n",
              "      <th>Segment</th>\n",
              "      <th>City</th>\n",
              "      <th>State</th>\n",
              "      <th>Country</th>\n",
              "      <th>Postal Code</th>\n",
              "      <th>Market</th>\n",
              "      <th>Region</th>\n",
              "      <th>Product ID</th>\n",
              "      <th>Category</th>\n",
              "      <th>Sub-Category</th>\n",
              "      <th>Product Name</th>\n",
              "      <th>Sales</th>\n",
              "      <th>Quantity</th>\n",
              "      <th>Discount</th>\n",
              "      <th>Profit</th>\n",
              "      <th>Shipping Cost</th>\n",
              "      <th>Order Priority</th>\n",
              "    </tr>\n",
              "  </thead>\n",
              "  <tbody>\n",
              "    <tr>\n",
              "      <th>0</th>\n",
              "      <td>32298</td>\n",
              "      <td>CA-2012-124891</td>\n",
              "      <td>2012-07-31</td>\n",
              "      <td>2012-07-31</td>\n",
              "      <td>Same Day</td>\n",
              "      <td>RH-19495</td>\n",
              "      <td>Rick Hansen</td>\n",
              "      <td>Consumer</td>\n",
              "      <td>New York City</td>\n",
              "      <td>New York</td>\n",
              "      <td>United States</td>\n",
              "      <td>10024.0</td>\n",
              "      <td>US</td>\n",
              "      <td>East</td>\n",
              "      <td>TEC-AC-10003033</td>\n",
              "      <td>Technology</td>\n",
              "      <td>Accessories</td>\n",
              "      <td>Plantronics CS510 - Over-the-Head monaural Wir...</td>\n",
              "      <td>2309.650</td>\n",
              "      <td>7</td>\n",
              "      <td>0.0</td>\n",
              "      <td>762.1845</td>\n",
              "      <td>933.57</td>\n",
              "      <td>Critical</td>\n",
              "    </tr>\n",
              "    <tr>\n",
              "      <th>1</th>\n",
              "      <td>26341</td>\n",
              "      <td>IN-2013-77878</td>\n",
              "      <td>2013-02-05</td>\n",
              "      <td>2013-02-07</td>\n",
              "      <td>Second Class</td>\n",
              "      <td>JR-16210</td>\n",
              "      <td>Justin Ritter</td>\n",
              "      <td>Corporate</td>\n",
              "      <td>Wollongong</td>\n",
              "      <td>New South Wales</td>\n",
              "      <td>Australia</td>\n",
              "      <td>NaN</td>\n",
              "      <td>APAC</td>\n",
              "      <td>Oceania</td>\n",
              "      <td>FUR-CH-10003950</td>\n",
              "      <td>Furniture</td>\n",
              "      <td>Chairs</td>\n",
              "      <td>Novimex Executive Leather Armchair, Black</td>\n",
              "      <td>3709.395</td>\n",
              "      <td>9</td>\n",
              "      <td>0.1</td>\n",
              "      <td>-288.7650</td>\n",
              "      <td>923.63</td>\n",
              "      <td>Critical</td>\n",
              "    </tr>\n",
              "    <tr>\n",
              "      <th>2</th>\n",
              "      <td>25330</td>\n",
              "      <td>IN-2013-71249</td>\n",
              "      <td>2013-10-17</td>\n",
              "      <td>2013-10-18</td>\n",
              "      <td>First Class</td>\n",
              "      <td>CR-12730</td>\n",
              "      <td>Craig Reiter</td>\n",
              "      <td>Consumer</td>\n",
              "      <td>Brisbane</td>\n",
              "      <td>Queensland</td>\n",
              "      <td>Australia</td>\n",
              "      <td>NaN</td>\n",
              "      <td>APAC</td>\n",
              "      <td>Oceania</td>\n",
              "      <td>TEC-PH-10004664</td>\n",
              "      <td>Technology</td>\n",
              "      <td>Phones</td>\n",
              "      <td>Nokia Smart Phone, with Caller ID</td>\n",
              "      <td>5175.171</td>\n",
              "      <td>9</td>\n",
              "      <td>0.1</td>\n",
              "      <td>919.9710</td>\n",
              "      <td>915.49</td>\n",
              "      <td>Medium</td>\n",
              "    </tr>\n",
              "    <tr>\n",
              "      <th>3</th>\n",
              "      <td>13524</td>\n",
              "      <td>ES-2013-1579342</td>\n",
              "      <td>2013-01-28</td>\n",
              "      <td>2013-01-30</td>\n",
              "      <td>First Class</td>\n",
              "      <td>KM-16375</td>\n",
              "      <td>Katherine Murray</td>\n",
              "      <td>Home Office</td>\n",
              "      <td>Berlin</td>\n",
              "      <td>Berlin</td>\n",
              "      <td>Germany</td>\n",
              "      <td>NaN</td>\n",
              "      <td>EU</td>\n",
              "      <td>Central</td>\n",
              "      <td>TEC-PH-10004583</td>\n",
              "      <td>Technology</td>\n",
              "      <td>Phones</td>\n",
              "      <td>Motorola Smart Phone, Cordless</td>\n",
              "      <td>2892.510</td>\n",
              "      <td>5</td>\n",
              "      <td>0.1</td>\n",
              "      <td>-96.5400</td>\n",
              "      <td>910.16</td>\n",
              "      <td>Medium</td>\n",
              "    </tr>\n",
              "    <tr>\n",
              "      <th>4</th>\n",
              "      <td>47221</td>\n",
              "      <td>SG-2013-4320</td>\n",
              "      <td>2013-11-05</td>\n",
              "      <td>2013-11-06</td>\n",
              "      <td>Same Day</td>\n",
              "      <td>RH-9495</td>\n",
              "      <td>Rick Hansen</td>\n",
              "      <td>Consumer</td>\n",
              "      <td>Dakar</td>\n",
              "      <td>Dakar</td>\n",
              "      <td>Senegal</td>\n",
              "      <td>NaN</td>\n",
              "      <td>Africa</td>\n",
              "      <td>Africa</td>\n",
              "      <td>TEC-SHA-10000501</td>\n",
              "      <td>Technology</td>\n",
              "      <td>Copiers</td>\n",
              "      <td>Sharp Wireless Fax, High-Speed</td>\n",
              "      <td>2832.960</td>\n",
              "      <td>8</td>\n",
              "      <td>0.0</td>\n",
              "      <td>311.5200</td>\n",
              "      <td>903.04</td>\n",
              "      <td>Critical</td>\n",
              "    </tr>\n",
              "  </tbody>\n",
              "</table>\n",
              "</div>"
            ],
            "text/plain": [
              "   Row ID         Order ID Order Date  ...    Profit Shipping Cost Order Priority\n",
              "0   32298   CA-2012-124891 2012-07-31  ...  762.1845        933.57       Critical\n",
              "1   26341    IN-2013-77878 2013-02-05  ... -288.7650        923.63       Critical\n",
              "2   25330    IN-2013-71249 2013-10-17  ...  919.9710        915.49         Medium\n",
              "3   13524  ES-2013-1579342 2013-01-28  ...  -96.5400        910.16         Medium\n",
              "4   47221     SG-2013-4320 2013-11-05  ...  311.5200        903.04       Critical\n",
              "\n",
              "[5 rows x 24 columns]"
            ]
          },
          "metadata": {
            "tags": []
          },
          "execution_count": 4
        }
      ]
    },
    {
      "cell_type": "markdown",
      "metadata": {
        "id": "Yh_uNfrGEtii",
        "colab_type": "text"
      },
      "source": [
        "Exploratory Data **Analysis**"
      ]
    },
    {
      "cell_type": "code",
      "metadata": {
        "id": "QFDxYbP5Evio",
        "colab_type": "code",
        "colab": {
          "base_uri": "https://localhost:8080/",
          "height": 510
        },
        "outputId": "b5c2dd29-3158-4bf3-d170-a7aea6ae278e"
      },
      "source": [
        "df.info()"
      ],
      "execution_count": 5,
      "outputs": [
        {
          "output_type": "stream",
          "text": [
            "<class 'pandas.core.frame.DataFrame'>\n",
            "RangeIndex: 51290 entries, 0 to 51289\n",
            "Data columns (total 24 columns):\n",
            "Row ID            51290 non-null int64\n",
            "Order ID          51290 non-null object\n",
            "Order Date        51290 non-null datetime64[ns]\n",
            "Ship Date         51290 non-null datetime64[ns]\n",
            "Ship Mode         51290 non-null object\n",
            "Customer ID       51290 non-null object\n",
            "Customer Name     51290 non-null object\n",
            "Segment           51290 non-null object\n",
            "City              51290 non-null object\n",
            "State             51290 non-null object\n",
            "Country           51290 non-null object\n",
            "Postal Code       9994 non-null float64\n",
            "Market            51290 non-null object\n",
            "Region            51290 non-null object\n",
            "Product ID        51290 non-null object\n",
            "Category          51290 non-null object\n",
            "Sub-Category      51290 non-null object\n",
            "Product Name      51290 non-null object\n",
            "Sales             51290 non-null float64\n",
            "Quantity          51290 non-null int64\n",
            "Discount          51290 non-null float64\n",
            "Profit            51290 non-null float64\n",
            "Shipping Cost     51290 non-null float64\n",
            "Order Priority    51290 non-null object\n",
            "dtypes: datetime64[ns](2), float64(5), int64(2), object(15)\n",
            "memory usage: 9.4+ MB\n"
          ],
          "name": "stdout"
        }
      ]
    },
    {
      "cell_type": "code",
      "metadata": {
        "id": "dXctlvLvE1X5",
        "colab_type": "code",
        "colab": {
          "base_uri": "https://localhost:8080/",
          "height": 34
        },
        "outputId": "7cc09cc6-e81f-43cc-99bf-503562e68c3b"
      },
      "source": [
        "df.shape"
      ],
      "execution_count": 6,
      "outputs": [
        {
          "output_type": "execute_result",
          "data": {
            "text/plain": [
              "(51290, 24)"
            ]
          },
          "metadata": {
            "tags": []
          },
          "execution_count": 6
        }
      ]
    },
    {
      "cell_type": "code",
      "metadata": {
        "id": "Ds6E_wiaE-Hw",
        "colab_type": "code",
        "colab": {
          "base_uri": "https://localhost:8080/",
          "height": 297
        },
        "outputId": "efa3ce2e-760f-4bc4-ed78-ca4c5913666b"
      },
      "source": [
        "pd.set_option(\"display.float_format\", \"{:.2f}\".format)\n",
        "df.describe()"
      ],
      "execution_count": 7,
      "outputs": [
        {
          "output_type": "execute_result",
          "data": {
            "text/html": [
              "<div>\n",
              "<style scoped>\n",
              "    .dataframe tbody tr th:only-of-type {\n",
              "        vertical-align: middle;\n",
              "    }\n",
              "\n",
              "    .dataframe tbody tr th {\n",
              "        vertical-align: top;\n",
              "    }\n",
              "\n",
              "    .dataframe thead th {\n",
              "        text-align: right;\n",
              "    }\n",
              "</style>\n",
              "<table border=\"1\" class=\"dataframe\">\n",
              "  <thead>\n",
              "    <tr style=\"text-align: right;\">\n",
              "      <th></th>\n",
              "      <th>Row ID</th>\n",
              "      <th>Postal Code</th>\n",
              "      <th>Sales</th>\n",
              "      <th>Quantity</th>\n",
              "      <th>Discount</th>\n",
              "      <th>Profit</th>\n",
              "      <th>Shipping Cost</th>\n",
              "    </tr>\n",
              "  </thead>\n",
              "  <tbody>\n",
              "    <tr>\n",
              "      <th>count</th>\n",
              "      <td>51290.00</td>\n",
              "      <td>9994.00</td>\n",
              "      <td>51290.00</td>\n",
              "      <td>51290.00</td>\n",
              "      <td>51290.00</td>\n",
              "      <td>51290.00</td>\n",
              "      <td>51290.00</td>\n",
              "    </tr>\n",
              "    <tr>\n",
              "      <th>mean</th>\n",
              "      <td>25645.50</td>\n",
              "      <td>55190.38</td>\n",
              "      <td>246.49</td>\n",
              "      <td>3.48</td>\n",
              "      <td>0.14</td>\n",
              "      <td>28.61</td>\n",
              "      <td>26.38</td>\n",
              "    </tr>\n",
              "    <tr>\n",
              "      <th>std</th>\n",
              "      <td>14806.29</td>\n",
              "      <td>32063.69</td>\n",
              "      <td>487.57</td>\n",
              "      <td>2.28</td>\n",
              "      <td>0.21</td>\n",
              "      <td>174.34</td>\n",
              "      <td>57.30</td>\n",
              "    </tr>\n",
              "    <tr>\n",
              "      <th>min</th>\n",
              "      <td>1.00</td>\n",
              "      <td>1040.00</td>\n",
              "      <td>0.44</td>\n",
              "      <td>1.00</td>\n",
              "      <td>0.00</td>\n",
              "      <td>-6599.98</td>\n",
              "      <td>0.00</td>\n",
              "    </tr>\n",
              "    <tr>\n",
              "      <th>25%</th>\n",
              "      <td>12823.25</td>\n",
              "      <td>23223.00</td>\n",
              "      <td>30.76</td>\n",
              "      <td>2.00</td>\n",
              "      <td>0.00</td>\n",
              "      <td>0.00</td>\n",
              "      <td>2.61</td>\n",
              "    </tr>\n",
              "    <tr>\n",
              "      <th>50%</th>\n",
              "      <td>25645.50</td>\n",
              "      <td>56430.50</td>\n",
              "      <td>85.05</td>\n",
              "      <td>3.00</td>\n",
              "      <td>0.00</td>\n",
              "      <td>9.24</td>\n",
              "      <td>7.79</td>\n",
              "    </tr>\n",
              "    <tr>\n",
              "      <th>75%</th>\n",
              "      <td>38467.75</td>\n",
              "      <td>90008.00</td>\n",
              "      <td>251.05</td>\n",
              "      <td>5.00</td>\n",
              "      <td>0.20</td>\n",
              "      <td>36.81</td>\n",
              "      <td>24.45</td>\n",
              "    </tr>\n",
              "    <tr>\n",
              "      <th>max</th>\n",
              "      <td>51290.00</td>\n",
              "      <td>99301.00</td>\n",
              "      <td>22638.48</td>\n",
              "      <td>14.00</td>\n",
              "      <td>0.85</td>\n",
              "      <td>8399.98</td>\n",
              "      <td>933.57</td>\n",
              "    </tr>\n",
              "  </tbody>\n",
              "</table>\n",
              "</div>"
            ],
            "text/plain": [
              "        Row ID  Postal Code    Sales  ...  Discount   Profit  Shipping Cost\n",
              "count 51290.00      9994.00 51290.00  ...  51290.00 51290.00       51290.00\n",
              "mean  25645.50     55190.38   246.49  ...      0.14    28.61          26.38\n",
              "std   14806.29     32063.69   487.57  ...      0.21   174.34          57.30\n",
              "min       1.00      1040.00     0.44  ...      0.00 -6599.98           0.00\n",
              "25%   12823.25     23223.00    30.76  ...      0.00     0.00           2.61\n",
              "50%   25645.50     56430.50    85.05  ...      0.00     9.24           7.79\n",
              "75%   38467.75     90008.00   251.05  ...      0.20    36.81          24.45\n",
              "max   51290.00     99301.00 22638.48  ...      0.85  8399.98         933.57\n",
              "\n",
              "[8 rows x 7 columns]"
            ]
          },
          "metadata": {
            "tags": []
          },
          "execution_count": 7
        }
      ]
    },
    {
      "cell_type": "code",
      "metadata": {
        "id": "djvQc4HqFfJP",
        "colab_type": "code",
        "colab": {
          "base_uri": "https://localhost:8080/",
          "height": 425
        },
        "outputId": "a51064aa-8cda-42d8-89c0-b9789df485f7"
      },
      "source": [
        "for column in df.columns:\n",
        "  print(f\"{column}: Number of unique values {df[column].nunique()}\")"
      ],
      "execution_count": 8,
      "outputs": [
        {
          "output_type": "stream",
          "text": [
            "Row ID: Number of unique values 51290\n",
            "Order ID: Number of unique values 25035\n",
            "Order Date: Number of unique values 1430\n",
            "Ship Date: Number of unique values 1464\n",
            "Ship Mode: Number of unique values 4\n",
            "Customer ID: Number of unique values 1590\n",
            "Customer Name: Number of unique values 795\n",
            "Segment: Number of unique values 3\n",
            "City: Number of unique values 3636\n",
            "State: Number of unique values 1094\n",
            "Country: Number of unique values 147\n",
            "Postal Code: Number of unique values 631\n",
            "Market: Number of unique values 7\n",
            "Region: Number of unique values 13\n",
            "Product ID: Number of unique values 10292\n",
            "Category: Number of unique values 3\n",
            "Sub-Category: Number of unique values 17\n",
            "Product Name: Number of unique values 3788\n",
            "Sales: Number of unique values 27200\n",
            "Quantity: Number of unique values 14\n",
            "Discount: Number of unique values 29\n",
            "Profit: Number of unique values 28234\n",
            "Shipping Cost: Number of unique values 17095\n",
            "Order Priority: Number of unique values 4\n"
          ],
          "name": "stdout"
        }
      ]
    },
    {
      "cell_type": "markdown",
      "metadata": {
        "id": "AQ2WB2LwF-5i",
        "colab_type": "text"
      },
      "source": [
        "Categorical **Features**"
      ]
    },
    {
      "cell_type": "code",
      "metadata": {
        "id": "O8bxDAxJGA7u",
        "colab_type": "code",
        "colab": {
          "base_uri": "https://localhost:8080/",
          "height": 1000
        },
        "outputId": "6586a51a-f8ea-44ea-95ba-5187f1d9c77d"
      },
      "source": [
        "object_col = []\n",
        "for column in df.columns:\n",
        "    if df[column].dtype == object and len(df[column].unique()) <= 30:\n",
        "        object_col.append(column)\n",
        "        print(f\"{column} : {df[column].unique()}\")\n",
        "        print(df[column].value_counts())\n",
        "        print(\"====================================\")\n",
        "object_col.remove('Attrition')"
      ],
      "execution_count": 9,
      "outputs": [
        {
          "output_type": "stream",
          "text": [
            "Ship Mode : ['Same Day' 'Second Class' 'First Class' 'Standard Class']\n",
            "Standard Class    30775\n",
            "Second Class      10309\n",
            "First Class        7505\n",
            "Same Day           2701\n",
            "Name: Ship Mode, dtype: int64\n",
            "====================================\n",
            "Segment : ['Consumer' 'Corporate' 'Home Office']\n",
            "Consumer       26518\n",
            "Corporate      15429\n",
            "Home Office     9343\n",
            "Name: Segment, dtype: int64\n",
            "====================================\n",
            "Market : ['US' 'APAC' 'EU' 'Africa' 'EMEA' 'LATAM' 'Canada']\n",
            "APAC      11002\n",
            "LATAM     10294\n",
            "EU        10000\n",
            "US         9994\n",
            "EMEA       5029\n",
            "Africa     4587\n",
            "Canada      384\n",
            "Name: Market, dtype: int64\n",
            "====================================\n",
            "Region : ['East' 'Oceania' 'Central' 'Africa' 'West' 'South' 'Central Asia' 'EMEA'\n",
            " 'North Asia' 'North' 'Caribbean' 'Southeast Asia' 'Canada']\n",
            "Central           11117\n",
            "South              6645\n",
            "EMEA               5029\n",
            "North              4785\n",
            "Africa             4587\n",
            "Oceania            3487\n",
            "West               3203\n",
            "Southeast Asia     3129\n",
            "East               2848\n",
            "North Asia         2338\n",
            "Central Asia       2048\n",
            "Caribbean          1690\n",
            "Canada              384\n",
            "Name: Region, dtype: int64\n",
            "====================================\n",
            "Category : ['Technology' 'Furniture' 'Office Supplies']\n",
            "Office Supplies    31273\n",
            "Technology         10141\n",
            "Furniture           9876\n",
            "Name: Category, dtype: int64\n",
            "====================================\n",
            "Sub-Category : ['Accessories' 'Chairs' 'Phones' 'Copiers' 'Tables' 'Binders' 'Supplies'\n",
            " 'Appliances' 'Machines' 'Bookcases' 'Storage' 'Furnishings' 'Art' 'Paper'\n",
            " 'Envelopes' 'Fasteners' 'Labels']\n",
            "Binders        6152\n",
            "Storage        5059\n",
            "Art            4883\n",
            "Paper          3538\n",
            "Chairs         3434\n",
            "Phones         3357\n",
            "Furnishings    3170\n",
            "Accessories    3075\n",
            "Labels         2606\n",
            "Envelopes      2435\n",
            "Supplies       2425\n",
            "Fasteners      2420\n",
            "Bookcases      2411\n",
            "Copiers        2223\n",
            "Appliances     1755\n",
            "Machines       1486\n",
            "Tables          861\n",
            "Name: Sub-Category, dtype: int64\n",
            "====================================\n",
            "Order Priority : ['Critical' 'Medium' 'High' 'Low']\n",
            "Medium      29433\n",
            "High        15501\n",
            "Critical     3932\n",
            "Low          2424\n",
            "Name: Order Priority, dtype: int64\n",
            "====================================\n"
          ],
          "name": "stdout"
        },
        {
          "output_type": "error",
          "ename": "ValueError",
          "evalue": "ignored",
          "traceback": [
            "\u001b[0;31m---------------------------------------------------------------------------\u001b[0m",
            "\u001b[0;31mValueError\u001b[0m                                Traceback (most recent call last)",
            "\u001b[0;32m<ipython-input-9-6cab915e8876>\u001b[0m in \u001b[0;36m<module>\u001b[0;34m()\u001b[0m\n\u001b[1;32m      6\u001b[0m         \u001b[0mprint\u001b[0m\u001b[0;34m(\u001b[0m\u001b[0mdf\u001b[0m\u001b[0;34m[\u001b[0m\u001b[0mcolumn\u001b[0m\u001b[0;34m]\u001b[0m\u001b[0;34m.\u001b[0m\u001b[0mvalue_counts\u001b[0m\u001b[0;34m(\u001b[0m\u001b[0;34m)\u001b[0m\u001b[0;34m)\u001b[0m\u001b[0;34m\u001b[0m\u001b[0;34m\u001b[0m\u001b[0m\n\u001b[1;32m      7\u001b[0m         \u001b[0mprint\u001b[0m\u001b[0;34m(\u001b[0m\u001b[0;34m\"====================================\"\u001b[0m\u001b[0;34m)\u001b[0m\u001b[0;34m\u001b[0m\u001b[0;34m\u001b[0m\u001b[0m\n\u001b[0;32m----> 8\u001b[0;31m \u001b[0mobject_col\u001b[0m\u001b[0;34m.\u001b[0m\u001b[0mremove\u001b[0m\u001b[0;34m(\u001b[0m\u001b[0;34m'Attrition'\u001b[0m\u001b[0;34m)\u001b[0m\u001b[0;34m\u001b[0m\u001b[0;34m\u001b[0m\u001b[0m\n\u001b[0m",
            "\u001b[0;31mValueError\u001b[0m: list.remove(x): x not in list"
          ]
        }
      ]
    },
    {
      "cell_type": "code",
      "metadata": {
        "id": "NauMjpgsGf8P",
        "colab_type": "code",
        "colab": {
          "base_uri": "https://localhost:8080/",
          "height": 34
        },
        "outputId": "54a0f330-e622-4b23-e853-12aa4eb26290"
      },
      "source": [
        "len(object_col)"
      ],
      "execution_count": 10,
      "outputs": [
        {
          "output_type": "execute_result",
          "data": {
            "text/plain": [
              "7"
            ]
          },
          "metadata": {
            "tags": []
          },
          "execution_count": 10
        }
      ]
    },
    {
      "cell_type": "code",
      "metadata": {
        "id": "XZZgX8I-G7D_",
        "colab_type": "code",
        "colab": {
          "base_uri": "https://localhost:8080/",
          "height": 1000
        },
        "outputId": "60af23a5-163b-410d-8bf2-72a2d7017790"
      },
      "source": [
        "disc_col = []\n",
        "for column in df.columns:\n",
        "    if df[column].dtypes != object and df[column].nunique() < 30:\n",
        "        print(f\"{column} : {df[column].unique()}\")\n",
        "        print(df[column].value_counts())\n",
        "        disc_col.append(column)\n",
        "        print(\"====================================\")\n",
        "disc_col.remove('Attrition')\n",
        "\n"
      ],
      "execution_count": 12,
      "outputs": [
        {
          "output_type": "stream",
          "text": [
            "Quantity : [ 7  9  5  8  4  6 13 12 14 10  2 11  3  1]\n",
            "2     12748\n",
            "3      9682\n",
            "1      8963\n",
            "4      6385\n",
            "5      4882\n",
            "6      3020\n",
            "7      2385\n",
            "8      1361\n",
            "9       987\n",
            "10      276\n",
            "14      186\n",
            "12      176\n",
            "11      156\n",
            "13       83\n",
            "Name: Quantity, dtype: int64\n",
            "====================================\n",
            "Discount : [0.    0.1   0.2   0.4   0.15  0.3   0.5   0.17  0.47  0.25  0.002 0.07\n",
            " 0.32  0.27  0.7   0.35  0.15  0.6   0.65  0.8   0.57  0.37  0.402 0.55\n",
            " 0.202 0.45  0.45  0.602 0.85 ]\n",
            "0.00    29009\n",
            "0.20     4998\n",
            "0.10     4068\n",
            "0.40     3177\n",
            "0.60     2006\n",
            "0.70     1786\n",
            "0.50     1633\n",
            "0.17      735\n",
            "0.47      725\n",
            "0.00      461\n",
            "0.15      459\n",
            "0.27      388\n",
            "0.30      340\n",
            "0.45      325\n",
            "0.80      316\n",
            "0.25      198\n",
            "0.07      150\n",
            "0.35      122\n",
            "0.40      104\n",
            "0.15       82\n",
            "0.37       74\n",
            "0.20       41\n",
            "0.32       27\n",
            "0.60       23\n",
            "0.65       17\n",
            "0.57       12\n",
            "0.55       10\n",
            "0.85        2\n",
            "0.45        2\n",
            "Name: Discount, dtype: int64\n",
            "====================================\n"
          ],
          "name": "stdout"
        },
        {
          "output_type": "error",
          "ename": "ValueError",
          "evalue": "ignored",
          "traceback": [
            "\u001b[0;31m---------------------------------------------------------------------------\u001b[0m",
            "\u001b[0;31mValueError\u001b[0m                                Traceback (most recent call last)",
            "\u001b[0;32m<ipython-input-12-d63f01bec5c4>\u001b[0m in \u001b[0;36m<module>\u001b[0;34m()\u001b[0m\n\u001b[1;32m      6\u001b[0m         \u001b[0mdisc_col\u001b[0m\u001b[0;34m.\u001b[0m\u001b[0mappend\u001b[0m\u001b[0;34m(\u001b[0m\u001b[0mcolumn\u001b[0m\u001b[0;34m)\u001b[0m\u001b[0;34m\u001b[0m\u001b[0;34m\u001b[0m\u001b[0m\n\u001b[1;32m      7\u001b[0m         \u001b[0mprint\u001b[0m\u001b[0;34m(\u001b[0m\u001b[0;34m\"====================================\"\u001b[0m\u001b[0;34m)\u001b[0m\u001b[0;34m\u001b[0m\u001b[0;34m\u001b[0m\u001b[0m\n\u001b[0;32m----> 8\u001b[0;31m \u001b[0mdisc_col\u001b[0m\u001b[0;34m.\u001b[0m\u001b[0mremove\u001b[0m\u001b[0;34m(\u001b[0m\u001b[0;34m'Attrition'\u001b[0m\u001b[0;34m)\u001b[0m\u001b[0;34m\u001b[0m\u001b[0;34m\u001b[0m\u001b[0m\n\u001b[0m\u001b[1;32m      9\u001b[0m \u001b[0;34m\u001b[0m\u001b[0m\n",
            "\u001b[0;31mValueError\u001b[0m: list.remove(x): x not in list"
          ]
        }
      ]
    },
    {
      "cell_type": "code",
      "metadata": {
        "id": "gaW75DO8HUhs",
        "colab_type": "code",
        "colab": {
          "base_uri": "https://localhost:8080/",
          "height": 153
        },
        "outputId": "c85352db-d6f8-41ea-f604-53d224d6c31a"
      },
      "source": [
        "cont_col = []\n",
        "for column in df.columns:\n",
        "    if df[column].dtypes != object and df[column].nunique() > 25:\n",
        "        print(f\"{column} : Minimum: {df[column].min()}, Maximum: {df[column].max()}\")\n",
        "        cont_col.append(column)"
      ],
      "execution_count": 13,
      "outputs": [
        {
          "output_type": "stream",
          "text": [
            "Row ID : Minimum: 1, Maximum: 51290\n",
            "Order Date : Minimum: 2011-01-01 00:00:00, Maximum: 2014-12-31 00:00:00\n",
            "Ship Date : Minimum: 2011-01-03 00:00:00, Maximum: 2015-01-07 00:00:00\n",
            "Postal Code : Minimum: 1040.0, Maximum: 99301.0\n",
            "Sales : Minimum: 0.44399999999999995, Maximum: 22638.48\n",
            "Discount : Minimum: 0.0, Maximum: 0.85\n",
            "Profit : Minimum: -6599.978000000001, Maximum: 8399.975999999999\n",
            "Shipping Cost : Minimum: 0.002, Maximum: 933.57\n"
          ],
          "name": "stdout"
        }
      ]
    },
    {
      "cell_type": "markdown",
      "metadata": {
        "id": "8wM2ytkmHhgO",
        "colab_type": "text"
      },
      "source": [
        "# Data Visualisation"
      ]
    },
    {
      "cell_type": "code",
      "metadata": {
        "id": "YevnWdeBHkRN",
        "colab_type": "code",
        "colab": {
          "base_uri": "https://localhost:8080/",
          "height": 1000
        },
        "outputId": "ee9cd72d-e20f-4c7b-d63e-4b81f4a97bfc"
      },
      "source": [
        "corr = df.corr()\n",
        "g = sns.heatmap(corr, vmax=2, center=0, square=True, linewidths=5, cbar_kws={\"shrink\": 5}, annot= True, fmt='.2f', cmap='coolwarm')\n",
        "sns.despine()\n",
        "\n",
        "\n",
        "plt.show()\n"
      ],
      "execution_count": 21,
      "outputs": [
        {
          "output_type": "display_data",
          "data": {
            "image/png": "[encoded data removed]",
            "text/plain": [
              "<Figure size 432x288 with 2 Axes>"
            ]
          },
          "metadata": {
            "tags": []
          }
        }
      ]
    },
    {
      "cell_type": "code",
      "metadata": {
        "id": "ScRsC2oMMaRj",
        "colab_type": "code",
        "colab": {
          "base_uri": "https://localhost:8080/",
          "height": 180
        },
        "outputId": "679c1ff8-0410-44f7-a2b2-245b504f1ca4"
      },
      "source": [
        "df = df.fillna(0)\n",
        "result = associations(df, nominal_column= catcols, return_result=True)"
      ],
      "execution_count": 22,
      "outputs": [
        {
          "output_type": "error",
          "ename": "NameError",
          "evalue": "ignored",
          "traceback": [
            "\u001b[0;31m---------------------------------------------------------------------------\u001b[0m",
            "\u001b[0;31mNameError\u001b[0m                                 Traceback (most recent call last)",
            "\u001b[0;32m<ipython-input-22-b3e350c84efa>\u001b[0m in \u001b[0;36m<module>\u001b[0;34m()\u001b[0m\n\u001b[1;32m      1\u001b[0m \u001b[0mdf\u001b[0m \u001b[0;34m=\u001b[0m \u001b[0mdf\u001b[0m\u001b[0;34m.\u001b[0m\u001b[0mfillna\u001b[0m\u001b[0;34m(\u001b[0m\u001b[0;36m0\u001b[0m\u001b[0;34m)\u001b[0m\u001b[0;34m\u001b[0m\u001b[0;34m\u001b[0m\u001b[0m\n\u001b[0;32m----> 2\u001b[0;31m \u001b[0mresult\u001b[0m \u001b[0;34m=\u001b[0m \u001b[0massociations\u001b[0m\u001b[0;34m(\u001b[0m\u001b[0mdf\u001b[0m\u001b[0;34m,\u001b[0m \u001b[0mnominal_column\u001b[0m\u001b[0;34m=\u001b[0m \u001b[0mcatcols\u001b[0m\u001b[0;34m,\u001b[0m \u001b[0mreturn_result\u001b[0m\u001b[0;34m=\u001b[0m\u001b[0;32mTrue\u001b[0m\u001b[0;34m)\u001b[0m\u001b[0;34m\u001b[0m\u001b[0;34m\u001b[0m\u001b[0m\n\u001b[0m",
            "\u001b[0;31mNameError\u001b[0m: name 'associations' is not defined"
          ]
        }
      ]
    }
  ]
}